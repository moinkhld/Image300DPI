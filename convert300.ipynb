{
 "cells": [
  {
   "cell_type": "code",
   "execution_count": 1,
   "metadata": {},
   "outputs": [],
   "source": [
    "import os\n",
    "from PIL import Image"
   ]
  },
  {
   "cell_type": "code",
   "execution_count": 2,
   "metadata": {},
   "outputs": [
    {
     "name": "stdout",
     "output_type": "stream",
     "text": [
      "D:\\vscode\\imageprocessing\\images\n",
      "D:\\vscode\\imageprocessing\\images\\Converted\n"
     ]
    }
   ],
   "source": [
    "parent_path = \"D:\\\\vscode\\imageprocessing\\images\"\n",
    "print(parent_path)\n",
    "directory = \"Converted\"\n",
    "convert_path = os.path.join(parent_path,directory)\n",
    "print(convert_path)"
   ]
  },
  {
   "cell_type": "code",
   "execution_count": 3,
   "metadata": {},
   "outputs": [],
   "source": [
    "if os.path.exists(convert_path) == False:\n",
    "    os.mkdir(convert_path)"
   ]
  },
  {
   "cell_type": "code",
   "execution_count": 7,
   "metadata": {},
   "outputs": [
    {
     "name": "stdout",
     "output_type": "stream",
     "text": [
      "Image: File_000.png\n",
      "Resolution: (1024, 1792)\n",
      "DPI: None\n",
      "Aspect Ratio: 0.5714285714285714\n",
      "Image Type: PNG\n",
      "\n"
     ]
    }
   ],
   "source": [
    "##print image properties\n",
    "\n",
    "for filename in os.listdir(parent_path):\n",
    "    if filename.endswith(\".jpg\") or filename.endswith(\".png\"):  # add or modify the file types if needed\n",
    "        image_path = os.path.join(parent_path, filename)\n",
    "        img = Image.open(image_path)\n",
    "        \n",
    "        # Get image properties\n",
    "        resolution = img.size\n",
    "        dpi = img.info.get(\"dpi\")\n",
    "        aspect_ratio = resolution[0] / resolution[1]\n",
    "        image_type = img.format\n",
    "        \n",
    "        # Print image properties\n",
    "        print(f\"Image: {filename}\")\n",
    "        print(f\"Resolution: {resolution}\")\n",
    "        print(f\"DPI: {dpi}\")\n",
    "        print(f\"Aspect Ratio: {aspect_ratio}\")\n",
    "        print(f\"Image Type: {image_type}\")\n",
    "        print()\n"
   ]
  },
  {
   "cell_type": "code",
   "execution_count": 4,
   "metadata": {},
   "outputs": [],
   "source": [
    "##create 300 dpi image without changing aspect ratio\n",
    "\n",
    "new_dpi = 300\n",
    "\n",
    "for filename in os.listdir(parent_path):\n",
    "    if filename.endswith(\".jpg\") or filename.endswith(\".png\"):  # add or modify the file types if needed\n",
    "        img = Image.open(os.path.join(parent_path, filename))\n",
    "        old_size = img.size\n",
    "        new_size = tuple([int(x*(new_dpi/96)) for x in old_size])\n",
    "        img_resized = img.resize(new_size, Image.LANCZOS)\n",
    "        img_resized.save(os.path.join(convert_path, f\"high_res_{filename}\"), dpi=(new_dpi, new_dpi))"
   ]
  },
  {
   "cell_type": "code",
   "execution_count": 10,
   "metadata": {},
   "outputs": [
    {
     "data": {
      "text/plain": [
       "'\\nnew_dpi = 300\\n\\nfor filename in os.listdir(parent_path):\\n    if filename.endswith(\".jpg\") or filename.endswith(\".png\"):  # add or modify the file types if needed\\n        img = Image.open(os.path.join(parent_path, filename))\\n        old_size = img.size\\n        new_size = tuple([int(x*(new_dpi/96)) for x in old_size])\\n\\n        # Calculate new dimensions that maintain a 4:3 aspect ratio\\n        max_size = max(new_size)\\n        if new_size[0] > new_size[1]:  # width is larger\\n            aspect_ratio_size = (max_size, int(max_size * 4 / 3))\\n        else:  # height is larger\\n            aspect_ratio_size = (int(max_size * 3 / 4), max_size)\\n\\n        img_resized = img.resize(aspect_ratio_size, Image.LANCZOS)\\n        img_resized.save(os.path.join(convert_path, f\"high_res_3_4_{filename}\"), dpi=(new_dpi, new_dpi))\\n'"
      ]
     },
     "execution_count": 10,
     "metadata": {},
     "output_type": "execute_result"
    }
   ],
   "source": [
    "##save image in 3x4 aspect ratio\n",
    "'''\n",
    "new_dpi = 300\n",
    "\n",
    "for filename in os.listdir(parent_path):\n",
    "    if filename.endswith(\".jpg\") or filename.endswith(\".png\"):  # add or modify the file types if needed\n",
    "        img = Image.open(os.path.join(parent_path, filename))\n",
    "        old_size = img.size\n",
    "        new_size = tuple([int(x*(new_dpi/96)) for x in old_size])\n",
    "\n",
    "        # Calculate new dimensions that maintain a 4:3 aspect ratio\n",
    "        max_size = max(new_size)\n",
    "        if new_size[0] > new_size[1]:  # width is larger\n",
    "            aspect_ratio_size = (max_size, int(max_size * 4 / 3))\n",
    "        else:  # height is larger\n",
    "            aspect_ratio_size = (int(max_size * 3 / 4), max_size)\n",
    "\n",
    "        img_resized = img.resize(aspect_ratio_size, Image.LANCZOS)\n",
    "        img_resized.save(os.path.join(convert_path, f\"high_res_3_4_{filename}\"), dpi=(new_dpi, new_dpi))\n",
    "'''"
   ]
  }
 ],
 "metadata": {
  "kernelspec": {
   "display_name": "base",
   "language": "python",
   "name": "python3"
  },
  "language_info": {
   "codemirror_mode": {
    "name": "ipython",
    "version": 3
   },
   "file_extension": ".py",
   "mimetype": "text/x-python",
   "name": "python",
   "nbconvert_exporter": "python",
   "pygments_lexer": "ipython3",
   "version": "3.11.5"
  }
 },
 "nbformat": 4,
 "nbformat_minor": 2
}

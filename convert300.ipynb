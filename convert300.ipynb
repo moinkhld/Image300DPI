{
 "cells": [
  {
   "cell_type": "code",
   "execution_count": 1,
   "metadata": {},
   "outputs": [],
   "source": [
    "import os\n",
    "from PIL import Image"
   ]
  },
  {
   "cell_type": "code",
   "execution_count": 2,
   "metadata": {},
   "outputs": [
    {
     "name": "stdout",
     "output_type": "stream",
     "text": [
      "D:\\vscode\\imageprocessing\\images\n",
      "D:\\vscode\\imageprocessing\\images\\Converted\n"
     ]
    }
   ],
   "source": [
    "parent_path = \"D:\\\\vscode\\imageprocessing\\images\"\n",
    "print(parent_path)\n",
    "directory = \"Converted\"\n",
    "convert_path = os.path.join(parent_path,directory)\n",
    "print(convert_path)"
   ]
  },
  {
   "cell_type": "code",
   "execution_count": 3,
   "metadata": {},
   "outputs": [],
   "source": [
    "if os.path.exists(convert_path) == False:\n",
    "    os.mkdir(convert_path)"
   ]
  },
  {
   "cell_type": "code",
   "execution_count": 4,
   "metadata": {},
   "outputs": [],
   "source": [
    "new_dpi = 300\n",
    "\n",
    "for filename in os.listdir(parent_path):\n",
    "    if filename.endswith(\".jpg\") or filename.endswith(\".png\"):  # add or modify the file types if needed\n",
    "        img = Image.open(os.path.join(parent_path, filename))\n",
    "        old_size = img.size\n",
    "        new_size = tuple([int(x*(new_dpi/96)) for x in old_size])\n",
    "        img_resized = img.resize(new_size, Image.LANCZOS)\n",
    "        img_resized.save(os.path.join(convert_path, f\"high_res_{filename}\"), dpi=(new_dpi, new_dpi))"
   ]
  }
 ],
 "metadata": {
  "kernelspec": {
   "display_name": "base",
   "language": "python",
   "name": "python3"
  },
  "language_info": {
   "codemirror_mode": {
    "name": "ipython",
    "version": 3
   },
   "file_extension": ".py",
   "mimetype": "text/x-python",
   "name": "python",
   "nbconvert_exporter": "python",
   "pygments_lexer": "ipython3",
   "version": "3.11.5"
  }
 },
 "nbformat": 4,
 "nbformat_minor": 2
}
